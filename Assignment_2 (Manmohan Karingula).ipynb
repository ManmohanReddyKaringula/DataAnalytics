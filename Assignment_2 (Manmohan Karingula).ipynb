{
 "cells": [
  {
   "cell_type": "code",
   "execution_count": 5,
   "id": "f3c5741a-246d-4369-9c2e-8181459dbf18",
   "metadata": {},
   "outputs": [],
   "source": [
    "%matplotlib inline\n",
    "import statsmodels as stm\n",
    "import numpy as np\n",
    "import pandas as pd\n",
    "import scipy.stats as stats\n",
    "import matplotlib.pyplot as plt\n",
    "import math\n",
    "import xarray as xr\n",
    "import seaborn as sns"
   ]
  },
  {
   "cell_type": "markdown",
   "id": "8ea7aea6-0651-44ba-a8a6-d998f7ed022b",
   "metadata": {},
   "source": [
    "**World data**"
   ]
  },
  {
   "cell_type": "code",
   "execution_count": 6,
   "id": "503d8562-3791-4120-a5fc-01216598dab0",
   "metadata": {},
   "outputs": [],
   "source": [
    "RH_WRLD_ds=xr.open_dataset('Relative Humidity.mon.mean.nc')\n",
    "TMP_WRLD_ds=xr.open_dataset(\"air.2m.mon.mean.nc\")"
   ]
  },
  {
   "cell_type": "markdown",
   "id": "d90e87bf-1db4-43a0-bd7f-76b4fce776e0",
   "metadata": {},
   "source": [
    "**Location: Hyderabad (Inland)**"
   ]
  },
  {
   "cell_type": "code",
   "execution_count": 7,
   "id": "15d06c09-320e-4bdd-abe9-c86465675e5c",
   "metadata": {},
   "outputs": [],
   "source": [
    "RH_HYD_ds = RH_WRLD_ds.sel(lon=[77.5], lat=[17.5], time=slice(\"1998-01-01\", \"2022-08-01\"), method=None)\n",
    "TMP_HYD_ds = TMP_WRLD_ds.sel(lon=[78.75], lat=[18.095], time=slice(\"1998-01-01\", \"2022-08-01\"), method=None)"
   ]
  },
  {
   "cell_type": "markdown",
   "id": "d1c8f2e7-6d94-46a5-b562-2840a812b272",
   "metadata": {},
   "source": [
    "**Location: Corpus Christi (Coastal)**"
   ]
  },
  {
   "cell_type": "code",
   "execution_count": 8,
   "id": "c5635687-16b7-4662-b5af-9fee41841cb8",
   "metadata": {},
   "outputs": [],
   "source": [
    "RH_CRP_ds = RH_WRLD_ds.sel(lon=[262.5], lat=[27.5], time=slice(\"1998-01-01\", \"2022-08-01\"), method=None)\n",
    "TMP_CRP_ds = TMP_WRLD_ds.sel(lon=[262.5], lat=[27.6186], time=slice(\"1998-01-01\", \"2022-08-01\"), method=None)"
   ]
  },
  {
   "cell_type": "markdown",
   "id": "1fd63601-1329-47f2-add7-ed4ecf6c73f2",
   "metadata": {},
   "source": [
    "**Location: Bengaluru (Inland)**"
   ]
  },
  {
   "cell_type": "code",
   "execution_count": 9,
   "id": "98fa725a-0b16-4bbb-a144-0202a935bc2e",
   "metadata": {},
   "outputs": [],
   "source": [
    "RH_BGL_ds = RH_WRLD_ds.sel(lon=[77.5], lat=[12.5], time=slice(\"1998-01-01\", \"2022-08-01\"), )\n",
    "TMP_BGL_ds = TMP_WRLD_ds.sel(lon=[76.875], lat=[12.3808], time=slice(\"1998-01-01\", \"2022-08-01\"), )"
   ]
  },
  {
   "cell_type": "markdown",
   "id": "bb123339-9216-4965-baeb-2944ed755e69",
   "metadata": {},
   "source": [
    "**Data for plotting distributions**"
   ]
  },
  {
   "cell_type": "code",
   "execution_count": 10,
   "id": "604ca2df-b638-4811-ad04-5882161abc90",
   "metadata": {},
   "outputs": [],
   "source": [
    "Time=np.array(RH_CRP_ds.time.values)\n",
    "\n",
    "RH_HYD = RH_HYD_ds.rhum.stack(z=['time', 'lat', 'lon'])\n",
    "TMP_HYD = TMP_HYD_ds.air.stack(z=['time', 'lat', 'lon'])\n",
    "\n",
    "RH_CRP = RH_CRP_ds.rhum.stack(z=['time', 'lat', 'lon'])\n",
    "TMP_CRP = TMP_CRP_ds.air.stack(z=['time', 'lat', 'lon'])\n",
    "\n",
    "RH_BGL = RH_BGL_ds.rhum.stack(z=['time', 'lat', 'lon'])\n",
    "TMP_BGL = TMP_BGL_ds.air.stack(z=['time', 'lat', 'lon'])\n"
   ]
  },
  {
   "cell_type": "code",
   "execution_count": 24,
   "id": "6d0be688-b5ef-4a28-bfb5-7735a2c887bc",
   "metadata": {},
   "outputs": [
    {
     "name": "stderr",
     "output_type": "stream",
     "text": [
      "C:\\Users\\dell\\anaconda3\\lib\\site-packages\\seaborn\\distributions.py:2619: FutureWarning: `distplot` is a deprecated function and will be removed in a future version. Please adapt your code to use either `displot` (a figure-level function with similar flexibility) or `histplot` (an axes-level function for histograms).\n",
      "  warnings.warn(msg, FutureWarning)\n"
     ]
    },
    {
     "data": {
      "image/png": "[encoded data removed]",
      "text/plain": [
       "<Figure size 432x288 with 1 Axes>"
      ]
     },
     "metadata": {
      "needs_background": "light"
     },
     "output_type": "display_data"
    }
   ],
   "source": [
    "sns.distplot(TMP_HYD)\n",
    "plt.show()"
   ]
  },
  {
   "cell_type": "code",
   "execution_count": 20,
   "id": "f530c28d-de84-4e51-beee-d68f7fc27b73",
   "metadata": {},
   "outputs": [
    {
     "data": {
      "text/plain": [
       "296"
      ]
     },
     "execution_count": 20,
     "metadata": {},
     "output_type": "execute_result"
    }
   ],
   "source": []
  },
  {
   "cell_type": "code",
   "execution_count": null,
   "id": "62a014bf-f788-42c6-8bb5-8de0ea49319e",
   "metadata": {},
   "outputs": [],
   "source": []
  }
 ],
 "metadata": {
  "kernelspec": {
   "display_name": "Python 3 (ipykernel)",
   "language": "python",
   "name": "python3"
  },
  "language_info": {
   "codemirror_mode": {
    "name": "ipython",
    "version": 3
   },
   "file_extension": ".py",
   "mimetype": "text/x-python",
   "name": "python",
   "nbconvert_exporter": "python",
   "pygments_lexer": "ipython3",
   "version": "3.9.7"
  }
 },
 "nbformat": 4,
 "nbformat_minor": 5
}
