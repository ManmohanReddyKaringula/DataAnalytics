{
  "nbformat": 4,
  "nbformat_minor": 0,
  "metadata": {
    "colab": {
      "provenance": [],
      "collapsed_sections": [],
      "toc_visible": true
    },
    "kernelspec": {
      "name": "python3",
      "display_name": "Python 3"
    },
    "language_info": {
      "name": "python"
    }
  },
  "cells": [
    {
      "cell_type": "markdown",
      "source": [
        "## Hypothesis 8\n",
        "H0: The earth region of the location has no effect on the longwave radiation\n",
        "\n",
        "Ha: Tropical locations have higher longwave radiation than temperate locations"
      ],
      "metadata": {
        "id": "Gsh8AURIeL5c"
      }
    },
    {
      "cell_type": "code",
      "source": [
        "!pip install rioxarray\n",
        "!pip install nc-time-axis\n",
        "\n",
        "from scipy.stats import ttest_ind\n",
        "import numpy as np\n",
        "from statsmodels.stats.weightstats import ztest as ztest\n",
        "import seaborn as sns\n",
        "import netCDF4 as nc\n",
        "import rioxarray\n",
        "import matplotlib.pyplot as plt\n",
        "import xarray as xr\n",
        "import cftime\n",
        "import pandas as pd\n",
        "import nc_time_axis"
      ],
      "metadata": {
        "id": "7whDd863FOoJ"
      },
      "execution_count": 78,
      "outputs": []
    },
    {
      "cell_type": "code",
      "source": [
        "from google.colab import drive\n",
        "drive.mount('/content/drive')"
      ],
      "metadata": {
        "colab": {
          "base_uri": "https://localhost:8080/"
        },
        "id": "IiaBWN5oFwHT",
        "outputId": "d934a682-7a41-4d00-b27c-695d7465f2ba"
      },
      "execution_count": 28,
      "outputs": [
        {
          "output_type": "stream",
          "name": "stdout",
          "text": [
            "Drive already mounted at /content/drive; to attempt to forcibly remount, call drive.mount(\"/content/drive\", force_remount=True).\n"
          ]
        }
      ]
    },
    {
      "cell_type": "code",
      "source": [
        "radiation_file = '/content/drive/MyDrive/Colab Notebooks/Data/olr.mon.ltm.1981-2010.nc'\n",
        "radiation_dataset = nc.Dataset(radiation_file, mode='r')\n",
        "print(radiation_dataset)\n",
        "print(radiation_dataset.variables.keys())"
      ],
      "metadata": {
        "id": "uNLdiyopE_KY"
      },
      "execution_count": null,
      "outputs": []
    },
    {
      "cell_type": "code",
      "source": [
        "#open netCDF file with rioxarray\n",
        "xr = rioxarray.open_rasterio(radiation_file)\n",
        "\n",
        "#xr.attrs['units'] = 'Standardized Units of Relative Dry and Wet'\n",
        "xr = xr[1]\n",
        "xr.attrs"
      ],
      "metadata": {
        "id": "fRCrT4PTOBHf"
      },
      "execution_count": null,
      "outputs": []
    },
    {
      "cell_type": "markdown",
      "source": [
        "## Gridded Data Plotted"
      ],
      "metadata": {
        "id": "fHIndEMtO730"
      }
    },
    {
      "cell_type": "code",
      "source": [
        "plt.contourf(xr['olr'][0,:,:])\n",
        "plt.colorbar()"
      ],
      "metadata": {
        "colab": {
          "base_uri": "https://localhost:8080/",
          "height": 286
        },
        "id": "Xag04O_v573I",
        "outputId": "ed37be6d-bec2-4ac8-f8b9-56206452614a"
      },
      "execution_count": 54,
      "outputs": [
        {
          "output_type": "execute_result",
          "data": {
            "text/plain": [
              "<matplotlib.colorbar.Colorbar at 0x7f0fc7640210>"
            ]
          },
          "metadata": {},
          "execution_count": 54
        },
        {
          "output_type": "display_data",
          "data": {
            "text/plain": [
              "<Figure size 432x288 with 2 Axes>"
            ],
            "image/png": "[encoded data removed]"
          },
          "metadata": {
            "needs_background": "light"
          }
        }
      ]
    },
    {
      "cell_type": "code",
      "source": [
        "#Get data from Tropical locations\n",
        "\n",
        "ds_corpus_radiation = xr.sel(x=263.25, y=28.25, method=\"nearest\")\n",
        "ds_villahermosa_radiation = xr.sel(x=268.25, y=18.25, method=\"nearest\")\n",
        "ds_puerto_escondido_radiation = xr.sel(x=262.41, y=16.41, method=\"nearest\")\n"
      ],
      "metadata": {
        "id": "ve5ievQVOOpL"
      },
      "execution_count": 40,
      "outputs": []
    },
    {
      "cell_type": "code",
      "source": [
        "#Get data from Temperate locations\n",
        "ds_new_york_radiation = xr.sel(x=285.0, y=40.0, method=\"nearest\")\n",
        "ds_siberia_radiation = xr.sel(x=137.41, y=63.41, method=\"nearest\")\n",
        "ds_seattle_radiation = xr.sel(x=237.5, y=40.0, method=\"nearest\")"
      ],
      "metadata": {
        "id": "qABAFf2QRXLD"
      },
      "execution_count": 19,
      "outputs": []
    },
    {
      "cell_type": "code",
      "source": [
        "#Convert to dataframe\n",
        "\n",
        "df_corpus_radiation = ds_corpus_radiation.to_dataframe()\n",
        "df_corpus_radiation = df_corpus_radiation.reset_index()\n",
        "\n",
        "df_villahermosa_radiation = ds_villahermosa_radiation.to_dataframe()\n",
        "df_villahermosa_radiation = df_villahermosa_radiation.reset_index()\n",
        "\n",
        "df_puerto_escondido_radiation = ds_puerto_escondido_radiation.to_dataframe()\n",
        "df_puerto_escondido_radiation = df_puerto_escondido_radiation.reset_index()\n",
        "\n",
        "df_new_york_radiation = ds_new_york_radiation.to_dataframe()\n",
        "df_new_york_radiation = df_new_york_radiation.reset_index()\n",
        "\n",
        "df_siberia_radiation = ds_siberia_radiation.to_dataframe()\n",
        "df_siberia_radiation = df_siberia_radiation.reset_index()\n",
        "\n",
        "df_seattle_radiation = ds_seattle_radiation.to_dataframe()\n",
        "df_seattle_radiation = df_seattle_radiation.reset_index()"
      ],
      "metadata": {
        "id": "ixqvMJmaUydu"
      },
      "execution_count": 20,
      "outputs": []
    },
    {
      "cell_type": "code",
      "source": [
        "tropical_data = pd.concat([df_corpus_radiation,df_villahermosa_radiation,df_puerto_escondido_radiation])\n",
        "temperate_data = pd.concat([df_new_york_radiation,df_seattle_radiation,df_siberia_radiation])"
      ],
      "metadata": {
        "id": "xu7_Lb6BCR17"
      },
      "execution_count": 63,
      "outputs": []
    },
    {
      "cell_type": "markdown",
      "source": [
        "## Display Data Dristribution"
      ],
      "metadata": {
        "id": "EbpZOEcSVoaC"
      }
    },
    {
      "cell_type": "code",
      "source": [
        "sns.distplot(tropical_data['olr'])\n",
        "plt.show()"
      ],
      "metadata": {
        "colab": {
          "base_uri": "https://localhost:8080/",
          "height": 334
        },
        "id": "Eow8RJsDtZ4J",
        "outputId": "cf1e9d2d-184a-4e7c-f24f-bbad3cc7ec24"
      },
      "execution_count": 64,
      "outputs": [
        {
          "output_type": "stream",
          "name": "stderr",
          "text": [
            "/usr/local/lib/python3.7/dist-packages/seaborn/distributions.py:2619: FutureWarning: `distplot` is a deprecated function and will be removed in a future version. Please adapt your code to use either `displot` (a figure-level function with similar flexibility) or `histplot` (an axes-level function for histograms).\n",
            "  warnings.warn(msg, FutureWarning)\n"
          ]
        },
        {
          "output_type": "display_data",
          "data": {
            "text/plain": [
              "<Figure size 432x288 with 1 Axes>"
            ],
            "image/png": "[encoded data removed]"
          },
          "metadata": {
            "needs_background": "light"
          }
        }
      ]
    },
    {
      "cell_type": "code",
      "source": [
        "sns.distplot(temperate_data['olr'])\n",
        "plt.show()"
      ],
      "metadata": {
        "colab": {
          "base_uri": "https://localhost:8080/",
          "height": 334
        },
        "id": "oh6VLiPNDHX7",
        "outputId": "fd2d53bb-9baf-46e4-fd00-29b5986f362e"
      },
      "execution_count": 66,
      "outputs": [
        {
          "output_type": "stream",
          "name": "stderr",
          "text": [
            "/usr/local/lib/python3.7/dist-packages/seaborn/distributions.py:2619: FutureWarning: `distplot` is a deprecated function and will be removed in a future version. Please adapt your code to use either `displot` (a figure-level function with similar flexibility) or `histplot` (an axes-level function for histograms).\n",
            "  warnings.warn(msg, FutureWarning)\n"
          ]
        },
        {
          "output_type": "display_data",
          "data": {
            "text/plain": [
              "<Figure size 432x288 with 1 Axes>"
            ],
            "image/png": "[encoded data removed]"
          },
          "metadata": {
            "needs_background": "light"
          }
        }
      ]
    },
    {
      "cell_type": "code",
      "source": [
        "np_temperate = temperate_data['olr'].to_numpy()\n",
        "np_tropical = tropical_data['olr'].to_numpy()"
      ],
      "metadata": {
        "colab": {
          "base_uri": "https://localhost:8080/"
        },
        "id": "yWyq41LC30Z2",
        "outputId": "4698ad81-75c2-4a89-b449-96fe914a82be"
      },
      "execution_count": 77,
      "outputs": [
        {
          "output_type": "execute_result",
          "data": {
            "text/plain": [
              "(36,)"
            ]
          },
          "metadata": {},
          "execution_count": 77
        }
      ]
    },
    {
      "cell_type": "markdown",
      "source": [
        "## Peform Hypotheses Tests"
      ],
      "metadata": {
        "id": "FeWzKvi7VuZ6"
      }
    },
    {
      "cell_type": "code",
      "source": [
        "\n",
        "tropical_mean = np.mean(np_tropical)\n",
        "temperate_mean = np.mean(np_temperate)\n",
        "ttest,pval = ttest_ind(np_temperate,np_tropical)\n",
        "print(\"p-value\",pval)\n",
        "'{:f}'.format(pval)"
      ],
      "metadata": {
        "colab": {
          "base_uri": "https://localhost:8080/",
          "height": 53
        },
        "id": "Ppsy7hCC3lFT",
        "outputId": "93bc28a0-6ba5-47ce-f695-4dd2bf74a6d1"
      },
      "execution_count": 72,
      "outputs": [
        {
          "output_type": "stream",
          "name": "stdout",
          "text": [
            "p-value 1.8911245980476573e-16\n"
          ]
        },
        {
          "output_type": "execute_result",
          "data": {
            "text/plain": [
              "'0.000000'"
            ],
            "application/vnd.google.colaboratory.intrinsic+json": {
              "type": "string"
            }
          },
          "metadata": {},
          "execution_count": 72
        }
      ]
    },
    {
      "cell_type": "code",
      "source": [
        "\n",
        "#perform two sample z-test\n",
        "p_value = ztest(np_temperate, np_tropical, value=0)[1]\n",
        "#print p-value\n",
        "print(\"p-value\",p_value)\n",
        "'{:f}'.format(p_value)"
      ],
      "metadata": {
        "colab": {
          "base_uri": "https://localhost:8080/",
          "height": 53
        },
        "id": "qF2Xe2X1_rXx",
        "outputId": "f6c76668-3df1-42ae-ab66-9d9d9ab9f42c"
      },
      "execution_count": 79,
      "outputs": [
        {
          "output_type": "stream",
          "name": "stdout",
          "text": [
            "p-value 6.628320957504908e-27\n"
          ]
        },
        {
          "output_type": "execute_result",
          "data": {
            "text/plain": [
              "'0.000000'"
            ],
            "application/vnd.google.colaboratory.intrinsic+json": {
              "type": "string"
            }
          },
          "metadata": {},
          "execution_count": 79
        }
      ]
    }
  ]
}