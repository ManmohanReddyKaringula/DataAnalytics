{
  "nbformat": 4,
  "nbformat_minor": 0,
  "metadata": {
    "colab": {
      "provenance": [],
      "collapsed_sections": []
    },
    "kernelspec": {
      "name": "python3",
      "display_name": "Python 3"
    },
    "language_info": {
      "name": "python"
    }
  },
  "cells": [
    {
      "cell_type": "markdown",
      "source": [
        "## Hypothesis 8\n",
        "Ho: The altitude of the location has no effect on the longwave radiation\n",
        "\n",
        "Ha: Tropical locations have higher longwave radiation than temperate locations"
      ],
      "metadata": {
        "id": "Gsh8AURIeL5c"
      }
    },
    {
      "cell_type": "code",
      "execution_count": null,
      "metadata": {
        "id": "_AyNCQgUdIJU",
        "colab": {
          "base_uri": "https://localhost:8080/"
        },
        "outputId": "c2d3148c-598a-4e41-a415-0bef5dc4364f"
      },
      "outputs": [
        {
          "output_type": "stream",
          "name": "stdout",
          "text": [
            "/content/drive/MyDrive/GitHub\n"
          ]
        }
      ],
      "source": [
        "%cd /content/drive/MyDrive/GitHub/\n"
      ]
    }
  ]
}