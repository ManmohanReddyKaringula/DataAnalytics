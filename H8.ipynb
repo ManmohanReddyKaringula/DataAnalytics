{
  "nbformat": 4,
  "nbformat_minor": 0,
  "metadata": {
    "colab": {
      "provenance": [],
      "collapsed_sections": []
    },
    "kernelspec": {
      "name": "python3",
      "display_name": "Python 3"
    },
    "language_info": {
      "name": "python"
    }
  },
  "cells": [
    {
      "cell_type": "markdown",
      "source": [
        "## Hypothesis 8\n",
        "H0: The earth region of the location has no effect on the longwave radiation\n",
        "\n",
        "Ha: Tropical locations have higher longwave radiation than temperate locations"
      ],
      "metadata": {
        "id": "Gsh8AURIeL5c"
      }
    },
    {
      "cell_type": "code",
      "source": [
        "!pip install rioxarray\n",
        "!pip install nc-time-axis\n",
        "\n",
        "import netCDF4 as nc\n",
        "import rioxarray\n",
        "import matplotlib.pyplot as plt\n",
        "import xarray as xr\n",
        "import cftime\n",
        "import nc_time_axis"
      ],
      "metadata": {
        "id": "7whDd863FOoJ"
      },
      "execution_count": null,
      "outputs": []
    },
    {
      "cell_type": "code",
      "source": [
        "from google.colab import drive\n",
        "drive.mount('/content/drive')"
      ],
      "metadata": {
        "colab": {
          "base_uri": "https://localhost:8080/"
        },
        "id": "IiaBWN5oFwHT",
        "outputId": "d934a682-7a41-4d00-b27c-695d7465f2ba"
      },
      "execution_count": 28,
      "outputs": [
        {
          "output_type": "stream",
          "name": "stdout",
          "text": [
            "Drive already mounted at /content/drive; to attempt to forcibly remount, call drive.mount(\"/content/drive\", force_remount=True).\n"
          ]
        }
      ]
    },
    {
      "cell_type": "code",
      "source": [
        "radiation_file = '/content/drive/MyDrive/Colab Notebooks/Data/olr.mon.ltm.1981-2010.nc'\n",
        "radiation_dataset = nc.Dataset(radiation_file, mode='r')\n",
        "print(radiation_dataset)\n",
        "print(radiation_dataset.variables.keys())"
      ],
      "metadata": {
        "id": "uNLdiyopE_KY"
      },
      "execution_count": null,
      "outputs": []
    },
    {
      "cell_type": "code",
      "source": [
        "#open netCDF file with rioxarray\n",
        "xr = rioxarray.open_rasterio(radiation_file)\n",
        "\n",
        "#xr.attrs['units'] = 'Standardized Units of Relative Dry and Wet'\n",
        "xr = xr[1]\n",
        "xr.attrs"
      ],
      "metadata": {
        "id": "fRCrT4PTOBHf"
      },
      "execution_count": null,
      "outputs": []
    },
    {
      "cell_type": "code",
      "source": [
        "plt.contourf(xr['olr'][0,:,:])\n",
        "plt.colorbar()"
      ],
      "metadata": {
        "colab": {
          "base_uri": "https://localhost:8080/",
          "height": 286
        },
        "id": "Xag04O_v573I",
        "outputId": "ed37be6d-bec2-4ac8-f8b9-56206452614a"
      },
      "execution_count": 54,
      "outputs": [
        {
          "output_type": "execute_result",
          "data": {
            "text/plain": [
              "<matplotlib.colorbar.Colorbar at 0x7f0fc7640210>"
            ]
          },
          "metadata": {},
          "execution_count": 54
        },
        {
          "output_type": "display_data",
          "data": {
            "text/plain": [
              "<Figure size 432x288 with 2 Axes>"
            ],
            "image/png": "[encoded data removed]"
          },
          "metadata": {
            "needs_background": "light"
          }
        }
      ]
    },
    {
      "cell_type": "code",
      "source": [
        "#Get data from Tropical locations\n",
        "\n",
        "ds_corpus_radiation = xr.sel(x=263.25, y=28.25, method=\"nearest\")\n",
        "ds_villahermosa_radiation = xr.sel(x=268.25, y=18.25, method=\"nearest\")\n",
        "ds_puerto_escondido_radiation = xr.sel(x=262.41, y=16.41, method=\"nearest\")\n"
      ],
      "metadata": {
        "id": "ve5ievQVOOpL"
      },
      "execution_count": 40,
      "outputs": []
    },
    {
      "cell_type": "code",
      "source": [
        "#Get data from Temperate locations\n",
        "ds_new_york_radiation = xr.sel(x=285.0, y=40.0, method=\"nearest\")\n",
        "ds_siberia_radiation = xr.sel(x=137.41, y=63.41, method=\"nearest\")\n",
        "ds_seattle_radiation = xr.sel(x=237.5, y=40.0, method=\"nearest\")"
      ],
      "metadata": {
        "id": "qABAFf2QRXLD"
      },
      "execution_count": 19,
      "outputs": []
    },
    {
      "cell_type": "code",
      "source": [
        "#Convert to dataframe\n",
        "\n",
        "df_corpus_radiation = ds_corpus_radiation.to_dataframe()\n",
        "df_corpus_radiation = df_corpus_radiation.reset_index()\n",
        "\n",
        "df_villahermosa_radiation = ds_villahermosa_radiation.to_dataframe()\n",
        "df_villahermosa_radiation = df_villahermosa_radiation.reset_index()\n",
        "\n",
        "df_puerto_escondido_radiation = ds_puerto_escondido_radiation.to_dataframe()\n",
        "df_puerto_escondido_radiation = df_puerto_escondido_radiation.reset_index()\n",
        "\n",
        "df_new_york_radiation = ds_new_york_radiation.to_dataframe()\n",
        "df_new_york_radiation = df_new_york_radiation.reset_index()\n",
        "\n",
        "df_siberia_radiation = ds_siberia_radiation.to_dataframe()\n",
        "df_siberia_radiation = df_siberia_radiation.reset_index()\n",
        "\n",
        "df_seattle_radiation = ds_seattle_radiation.to_dataframe()\n",
        "df_seattle_radiation = df_seattle_radiation.reset_index()"
      ],
      "metadata": {
        "id": "ixqvMJmaUydu"
      },
      "execution_count": 20,
      "outputs": []
    },
    {
      "cell_type": "code",
      "source": [
        "import seaborn as sns\n",
        "\n",
        "sns.distplot(df_corpus_radiation['olr'])\n",
        "plt.show()"
      ],
      "metadata": {
        "colab": {
          "base_uri": "https://localhost:8080/",
          "height": 334
        },
        "id": "Eow8RJsDtZ4J",
        "outputId": "588e9219-9201-4f95-8b8d-92ee414a6d31"
      },
      "execution_count": 43,
      "outputs": [
        {
          "output_type": "stream",
          "name": "stderr",
          "text": [
            "/usr/local/lib/python3.7/dist-packages/seaborn/distributions.py:2619: FutureWarning: `distplot` is a deprecated function and will be removed in a future version. Please adapt your code to use either `displot` (a figure-level function with similar flexibility) or `histplot` (an axes-level function for histograms).\n",
            "  warnings.warn(msg, FutureWarning)\n"
          ]
        },
        {
          "output_type": "display_data",
          "data": {
            "text/plain": [
              "<Figure size 432x288 with 1 Axes>"
            ],
            "image/png": "[encoded data removed]"
          },
          "metadata": {
            "needs_background": "light"
          }
        }
      ]
    },
    {
      "cell_type": "code",
      "source": [
        "np_corpus = df_corpus_radiation['olr'].to_numpy()\n",
        "np_new_york = df_new_york_radiation['olr'].to_numpy()\n"
      ],
      "metadata": {
        "id": "yWyq41LC30Z2"
      },
      "execution_count": 49,
      "outputs": []
    },
    {
      "cell_type": "code",
      "source": [
        "from scipy.stats import ttest_ind\n",
        "import numpy as np\n",
        "\n",
        "print(np_corpus)\n",
        "print(\"week2 data :-\\n\")\n",
        "print(np_new_york)\n",
        "corpus_mean = np.mean(np_corpus)\n",
        "new_york_mean = np.mean(np_new_york)\n",
        "print(\"Corpus mean value:\",corpus_mean)\n",
        "print(\"New York mean value:\",new_york_mean)\n",
        "ttest,pval = ttest_ind(np_corpus,np_new_york)\n",
        "print(\"p-value\",pval)\n",
        "if pval <0.05:\n",
        "  print(\"we reject null hypothesis\")\n",
        "else:\n",
        "  print(\"we accept null hypothesis\")"
      ],
      "metadata": {
        "colab": {
          "base_uri": "https://localhost:8080/"
        },
        "id": "Ppsy7hCC3lFT",
        "outputId": "eef08cab-dcc7-4f89-a973-2178532a38e2"
      },
      "execution_count": 50,
      "outputs": [
        {
          "output_type": "stream",
          "name": "stdout",
          "text": [
            "[271.44345 270.94846 269.11148 260.79044 246.80823 248.38438 250.70248\n",
            " 248.75525 249.27705 249.95229 254.0947  262.52847]\n",
            "week2 data :-\n",
            "\n",
            "[256.31586 258.2001  249.37291 239.10887 224.93082 218.84102 221.22247\n",
            " 222.32474 229.31036 234.34373 240.30394 248.91933]\n",
            "Corpus mean value: 256.89975\n",
            "New York mean value: 236.93286\n",
            "p-value 0.00047750095627882734\n",
            "we reject null hypothesis\n"
          ]
        }
      ]
    }
  ]
}