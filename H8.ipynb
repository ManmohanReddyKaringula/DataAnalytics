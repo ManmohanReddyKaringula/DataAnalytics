{
  "nbformat": 4,
  "nbformat_minor": 0,
  "metadata": {
    "colab": {
      "provenance": [],
      "collapsed_sections": []
    },
    "kernelspec": {
      "name": "python3",
      "display_name": "Python 3"
    },
    "language_info": {
      "name": "python"
    }
  },
  "cells": [
    {
      "cell_type": "markdown",
      "source": [
        "## Hypothesis 8\n",
        "Ho: The earth region of the location has no effect on the longwave radiation\n",
        "\n",
        "Ha: Tropical locations have higher longwave radiation than temperate locations"
      ],
      "metadata": {
        "id": "Gsh8AURIeL5c"
      }
    },
    {
      "cell_type": "code",
      "source": [
        "!pip install rioxarray\n",
        "!pip install nc-time-axis\n",
        "\n",
        "import netCDF4 as nc\n",
        "import rioxarray\n",
        "import matplotlib.pyplot as plt\n",
        "import xarray\n",
        "import cftime\n",
        "import nc_time_axis"
      ],
      "metadata": {
        "id": "7whDd863FOoJ"
      },
      "execution_count": null,
      "outputs": []
    },
    {
      "cell_type": "code",
      "source": [
        "from google.colab import drive\n",
        "drive.mount('/content/drive')"
      ],
      "metadata": {
        "colab": {
          "base_uri": "https://localhost:8080/"
        },
        "id": "IiaBWN5oFwHT",
        "outputId": "ea32122e-d638-42c1-c8d8-124915db1cdf"
      },
      "execution_count": 6,
      "outputs": [
        {
          "output_type": "stream",
          "name": "stdout",
          "text": [
            "Mounted at /content/drive\n"
          ]
        }
      ]
    },
    {
      "cell_type": "code",
      "source": [
        "radiation_file = '/content/drive/MyDrive/Colab Notebooks/Data/olr.mon.ltm.1981-2010.nc'\n",
        "radiation_dataset = nc.Dataset(radiation_file, mode='r')\n",
        "print(radiation_dataset)\n",
        "print(radiation_dataset.variables.keys())"
      ],
      "metadata": {
        "colab": {
          "base_uri": "https://localhost:8080/"
        },
        "id": "uNLdiyopE_KY",
        "outputId": "2ad3926a-ad37-4244-ad77-c7f85f690550"
      },
      "execution_count": 8,
      "outputs": [
        {
          "output_type": "stream",
          "name": "stdout",
          "text": [
            "<class 'netCDF4._netCDF4.Dataset'>\n",
            "root group (NETCDF4_CLASSIC data model, file format HDF5):\n",
            "    title: Monthly Mean  OLR\n",
            "    description: The product contains the 1-degree by 1-degree daily mean outgoing longwave radiation flux at the top of the atmosphere derived from HIRS radiance observations onboard NOAA TIROS-N series and MetOp satellites. The OLR retrieval uses multispectral regression models (Ellingson et al., 1989, Lee, 2014). The CDR processing includes HIRS radiance calibration, inter-satellite HIRS OLR calibration, normalization of geostationary-based  OLR retrieval to HIRS, and grid-based 7-day boxcar temporal integration assisted with Imager-based OLR derived from Gridsat CDR data (Lee, 2014).\n",
            "    platform: Observation\n",
            "    ncdc_metadatalink: gov.noaa.ncdc:C00875\n",
            "    version: Ver01Rev02\n",
            "    creator_notes: Hai-Tien Lee http://cicsmd.umd.edu/ lee@umd.edu at UMD/ESSIC > Earth System Science Interdisciplinary Center, University of Maryland \n",
            "    sensor: HIRS-2 > High Resolution Infra-red Sounder/2, HIRS-2I > High Resolution Infra-red Sounder/2I, HIRS-3 > High Resolution Infra-red Sounder/3, HIRS-4 > High Resolution Infra-red Sounder/4\n",
            "    platform_source: TIROS-N > Television Infrared Observation Satellite - N, NOAA-6 > National Oceanic Atmospheric Administration - 6, NOAA-7 > National Oceanic Atmospheric Administration - 7, NOAA-8 > National Oceanic Atmospheric Administration - 8, NOAA-9 > National Oceanic Atmospheric Administration - 9, NOAA-10 > National Oceanic Atmospheric Administration - 10, NOAA-11 > National Oceanic Atmospheric Administration - 11, NOAA-12 > National Oceanic Atmospheric Administration - 12, NOAA-14 > National Oceanic Atmospheric Administration - 14, NOAA-15 > National Oceanic Atmospheric Administration - 15, NOAA-16 > National Oceanic Atmospheric Administration - 16, NOAA-17 > National Oceanic Atmospheric Administration - 17, NOAA-18 > National Oceanic Atmospheric Administration - 18, NOAA-19 > National Oceanic Atmospheric Administration - 19, MetOp-A > Meteorological Operational Polar Satellite - A, MetOp-B > Meteorological Operational Polar Satellite - B\n",
            "    acknowledgment: This project was supported in part by a grant from the NOAA Climate Data Record (CDR) Program for Satellites\n",
            "    keywords: Earth Science > Atmosphere >  Atmospheric Radiation > Outgoing Longwave Radiation\n",
            "    summary: The product contains the 1-degree by 1-degree daily mean outgoing longwave radiation flux at the top of the atmosphere derived from HIRS radiance observations onboard NOAA TIROS-N series and MetOp satellites. The OLR retrieval uses multispectral regression models (Ellingson et al., 1989, Lee, 2014). The CDR processing includes HIRS radiance calibration, inter-satellite HIRS OLR calibration, normalization of geostationary-based  OLR retrieval to HIRS, and grid-based 7-day boxcar temporal integration assisted with Imager-based OLR derived from Gridsat CDR data (Lee, 2014).\n",
            "    keywords_vocabulary: NASA Global Change Master Directory (GCMD) Earth Science Keywords, Version 8.0.0.0\n",
            "    NCO: 4.0.0\n",
            "    Conventions: CF-1.2\n",
            "    dataset_title: Outgoing Longwave Radiation Daily Climate Data Record (OLR Daily CDR)\n",
            "    original_source: https://www.ncdc.noaa.gov/news/new-outgoing-longwave-radiation-climate-data-record\n",
            "    history: Created 2022/01/19 by doMonthLTMNC4\n",
            "    References: https://www.psl.noaa.gov/data/gridded/data.olr_tcdr.html\n",
            "    not_missing_threshold_percent: minimum 3% values input to have non-missing output value\n",
            "    dimensions(sizes): lon(360), lat(180), time(12), nbnds(2)\n",
            "    variables(dimensions): float32 lat(lat), float32 lon(lon), float64 time(time), float64 climatology_bounds(time, nbnds), float32 olr(time, lat, lon), int16 valid_yr_count(time, lat, lon)\n",
            "    groups: \n",
            "dict_keys(['lat', 'lon', 'time', 'climatology_bounds', 'olr', 'valid_yr_count'])\n"
          ]
        }
      ]
    }
  ]
}